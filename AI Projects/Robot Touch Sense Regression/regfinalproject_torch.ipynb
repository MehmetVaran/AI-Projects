{
 "cells": [
  {
   "cell_type": "code",
   "execution_count": 1,
   "id": "848d02ee-ec6b-4068-9d79-ff7a36734e8b",
   "metadata": {
    "tags": []
   },
   "outputs": [
    {
     "name": "stderr",
     "output_type": "stream",
     "text": [
      "C:\\Users\\mehme\\anaconda3\\lib\\site-packages\\tqdm\\auto.py:21: TqdmWarning: IProgress not found. Please update jupyter and ipywidgets. See https://ipywidgets.readthedocs.io/en/stable/user_install.html\n",
      "  from .autonotebook import tqdm as notebook_tqdm\n"
     ]
    },
    {
     "data": {
      "text/plain": [
       "<torch._C.Generator at 0x2801bb789f0>"
      ]
     },
     "execution_count": 1,
     "metadata": {},
     "output_type": "execute_result"
    }
   ],
   "source": [
    "# regression using torch library(ann)\n",
    "# Mehmet VARAN\n",
    "# -*- coding: utf-8 -*-\n",
    "\n",
    "# importing libraries\n",
    "import torch\n",
    "from numpy import vstack\n",
    "from numpy import sqrt\n",
    "import pandas as pd\n",
    "from sklearn.metrics import mean_squared_error\n",
    "from torch.utils.data import Dataset\n",
    "from torch.utils.data import DataLoader\n",
    "from torch.utils.data import random_split\n",
    "from torch.nn import Linear\n",
    "from torch.nn import Sigmoid\n",
    "from torch.nn import Module\n",
    "from torch.optim import SGD\n",
    "from torch.nn import MSELoss\n",
    "from torch.nn.init import xavier_uniform_\n",
    "from sklearn.model_selection import train_test_split\n",
    "from sklearn.metrics import r2_score\n",
    "\n",
    "# setting seed value\n",
    "torch.manual_seed(5)"
   ]
  },
  {
   "cell_type": "code",
   "execution_count": 2,
   "id": "2a1ca8a8-4a2d-4b43-9149-d90ec170de95",
   "metadata": {
    "tags": []
   },
   "outputs": [],
   "source": [
    "# takes dataset and does some preprocessing\n",
    "class CSVDataset(Dataset):\n",
    "    # load the dataset\n",
    "    def __init__(self, path):\n",
    "        # load the csv file as a dataframe\n",
    "        df = pd.read_csv(path)\n",
    "        # store the inputs and outputs\n",
    "        self.X = df.values[:, 11:-4].astype('float32')\n",
    "        self.y = df.values[:, -4:-1].astype('float32')\n",
    "        # printing datas separetly\n",
    "        self.y = self.y.reshape((len(self.y), 3))\n",
    "        print(self.X)\n",
    "        print(self.y)\n",
    "        \n",
    "        \n",
    " \n",
    "    # number of rows in the dataset\n",
    "    def __len__(self):\n",
    "        return len(self.X)\n",
    " \n",
    "    # get a row at an index\n",
    "    def __getitem__(self, idx):\n",
    "        return [self.X[idx], self.y[idx]]\n",
    " \n",
    "    # get indexes for train and test rows\n",
    "    def get_splits(self, n_test=0.25):\n",
    "        # determine sizes\n",
    "        test_size = round(n_test * len(self.X))\n",
    "        train_size = len(self.X) - test_size\n",
    "        # calculate the split\n",
    "        return random_split(self, [train_size, test_size])"
   ]
  },
  {
   "cell_type": "code",
   "execution_count": 3,
   "id": "f032cbb7-af14-4a30-8278-8b0b700b38f3",
   "metadata": {
    "tags": []
   },
   "outputs": [],
   "source": [
    "def prepare_data(path):\n",
    "    # load the dataset\n",
    "    dataset = CSVDataset(path)\n",
    "    # calculate split\n",
    "    train, test = dataset.get_splits()\n",
    "    # prepare data loaders\n",
    "    train_dl = DataLoader(train, batch_size=32, shuffle=True)\n",
    "    test_dl = DataLoader(test, batch_size=1024, shuffle=False)\n",
    "    return train_dl, test_dl"
   ]
  },
  {
   "cell_type": "code",
   "execution_count": 4,
   "id": "456e80ef-b9ec-4f54-bcaa-0ae120ccb53e",
   "metadata": {
    "tags": []
   },
   "outputs": [],
   "source": [
    "class MLP(Module):\n",
    "    # define model elements\n",
    "    def __init__(self, n_inputs):\n",
    "        super(MLP, self).__init__()\n",
    "        # input to first hidden layer\n",
    "        self.hidden1 = Linear(n_inputs, 100)\n",
    "        xavier_uniform_(self.hidden1.weight)\n",
    "        self.act1 = Sigmoid()\n",
    "        # second hidden layer\n",
    "        self.hidden2 = Linear(100, 30)\n",
    "        xavier_uniform_(self.hidden2.weight)\n",
    "        self.act2 = Sigmoid()\n",
    "        # third hidden layer and output\n",
    "        self.hidden3 = Linear(30, 3)\n",
    "        xavier_uniform_(self.hidden3.weight)\n",
    " \n",
    "    # forward propagate input\n",
    "    def forward(self, X):\n",
    "        # input to first hidden layer\n",
    "        X = self.hidden1(X)\n",
    "        X = self.act1(X)\n",
    "         # second hidden layer\n",
    "        X = self.hidden2(X)\n",
    "        X = self.act2(X)\n",
    "        # third hidden layer and output\n",
    "        X = self.hidden3(X)\n",
    "        return X"
   ]
  },
  {
   "cell_type": "code",
   "execution_count": 5,
   "id": "745501da-fa5f-4f3a-b59d-88cc64e0c19c",
   "metadata": {
    "tags": []
   },
   "outputs": [],
   "source": [
    "def train_model(train_dl, model):\n",
    "    # define the optimization\n",
    "    criterion = MSELoss()\n",
    "    optimizer = SGD(model.parameters(), lr=0.001, momentum=0.9)\n",
    "    # enumerate epochs\n",
    "    for epoch in range(100):\n",
    "        # enumerate mini batches\n",
    "        for i, (inputs, targets) in enumerate(train_dl): # \n",
    "            # clear the gradients\n",
    "            optimizer.zero_grad()\n",
    "            # compute the model output\n",
    "            yhat = model(inputs)\n",
    "            # calculate loss\n",
    "            loss = criterion(yhat, targets)\n",
    "            # credit assignment\n",
    "            loss.backward()\n",
    "            # update model weights\n",
    "            optimizer.step()"
   ]
  },
  {
   "cell_type": "code",
   "execution_count": 6,
   "id": "3076ab75-8db5-4150-a872-a3081da4f6a4",
   "metadata": {
    "tags": []
   },
   "outputs": [],
   "source": [
    "def evaluate_model(test_dl, model):\n",
    "    predictions, actuals = list(), list()\n",
    "    for i, (inputs, targets) in enumerate(test_dl):\n",
    "        # evaluate the model on the test set\n",
    "        yhat = model(inputs)\n",
    "        # retrieve numpy array\n",
    "        yhat = yhat.detach().numpy()\n",
    "        actual = targets.numpy()\n",
    "        actual = actual.reshape((len(actual), 3))\n",
    "        # store\n",
    "        predictions.append(yhat)\n",
    "        actuals.append(actual)\n",
    "    predictions, actuals = vstack(predictions), vstack(actuals)\n",
    "    # calculate mse\n",
    "    mse = mean_squared_error(actuals, predictions)\n",
    "    return mse"
   ]
  },
  {
   "cell_type": "code",
   "execution_count": 7,
   "id": "c75c7f8a-a2be-49c8-b895-732c87bd7b0e",
   "metadata": {
    "tags": []
   },
   "outputs": [],
   "source": [
    "# making prediction for given data\n",
    "def predict(Dataset, model):\n",
    "    # convert row to data\n",
    "    data_pred = torch.tensor(Dataset.values)\n",
    "    data_pred= data_pred.type(torch.FloatTensor)\n",
    "    # make prediction\n",
    "    yhat = model(data_pred)\n",
    "    # retrieve numpy array\n",
    "    yhat = yhat.detach().numpy()\n",
    "    return yhat"
   ]
  },
  {
   "cell_type": "code",
   "execution_count": 8,
   "id": "8f1a7276-bffb-470e-be69-42ec16ce800a",
   "metadata": {
    "tags": []
   },
   "outputs": [
    {
     "data": {
      "text/plain": [
       "\"\\ndata = pd.read_csv('robot_ds.csv', sep = ';')\\ndata_train, data_test = train_test_split(data, test_size= 0.25, random_state=5)\\n\\ndata_train.to_csv('robot_train.csv', index=False)\\ndata_test.to_csv('robot_test.csv', index=False)\\n\""
      ]
     },
     "execution_count": 8,
     "metadata": {},
     "output_type": "execute_result"
    }
   ],
   "source": [
    "# getting raw data and splitting as train and test\n",
    "'''\n",
    "data = pd.read_csv('robot_ds.csv', sep = ';')\n",
    "data_train, data_test = train_test_split(data, test_size= 0.25, random_state=5)\n",
    "\n",
    "data_train.to_csv('robot_train.csv', index=False)\n",
    "data_test.to_csv('robot_test.csv', index=False)\n",
    "'''"
   ]
  },
  {
   "cell_type": "code",
   "execution_count": 9,
   "id": "3bcf63a1-e0e8-48f1-9592-61496ef9888c",
   "metadata": {
    "tags": []
   },
   "outputs": [
    {
     "name": "stdout",
     "output_type": "stream",
     "text": [
      "[[0. 0. 0. ... 0. 0. 0.]\n",
      " [0. 0. 0. ... 0. 0. 0.]\n",
      " [0. 0. 0. ... 0. 0. 0.]\n",
      " ...\n",
      " [0. 0. 0. ... 0. 0. 0.]\n",
      " [0. 0. 0. ... 0. 0. 0.]\n",
      " [0. 0. 0. ... 0. 0. 0.]]\n",
      "[[ -8.4  30.    0. ]\n",
      " [-10.8  20.4   4. ]\n",
      " [ -8.4   1.2   0. ]\n",
      " ...\n",
      " [  9.6  -2.4  11.6]\n",
      " [ -7.2  28.8   0. ]\n",
      " [ 13.2   3.6   4. ]]\n",
      "1116 372\n",
      "MSE: 1.4226, RMSE: 1.1927\n"
     ]
    }
   ],
   "source": [
    "# getting train data \n",
    "path = 'robot_train.csv'\n",
    "train_dl, test_dl = prepare_data(path)\n",
    "print(len(train_dl.dataset), len(test_dl.dataset))\n",
    "# define the network\n",
    "model = MLP(200)\n",
    "\n",
    "# train the model\n",
    "train_model(train_dl, model)\n",
    "\n",
    "# evaluate the model\n",
    "mse = evaluate_model(test_dl, model)\n",
    "print('MSE: %.4f, RMSE: %.4f' % (mse, sqrt(mse)))"
   ]
  },
  {
   "cell_type": "code",
   "execution_count": 10,
   "id": "4bf93b95-4103-47d5-86eb-a50580dc7bc7",
   "metadata": {},
   "outputs": [],
   "source": [
    "# getting test(never used) data, separating into inputs and XYZ\n",
    "data_test = pd.read_csv('robot_test.csv')\n",
    "data_testFinal = data_test.iloc[:,10:-1]\n",
    "data_testInputs = data_testFinal.iloc[:,1:-3]\n",
    "data_testXYZ = data_test.iloc[:,-4:-1]"
   ]
  },
  {
   "cell_type": "code",
   "execution_count": 12,
   "id": "0c768b7e-5cb6-4864-bbcf-0175b374d76e",
   "metadata": {},
   "outputs": [
    {
     "name": "stdout",
     "output_type": "stream",
     "text": [
      "Predicted: [[  2.4377775    0.59632957   3.9751613 ]\n",
      " [-12.946435    21.395256     8.280129  ]\n",
      " [ -8.995576    34.72955      7.3918858 ]\n",
      " ...\n",
      " [  3.270839    -2.4597902    0.6434301 ]\n",
      " [-12.96333     18.64809      8.030453  ]\n",
      " [-12.093062    24.238232    11.545196  ]]\n",
      "R2 Score: 0.9799\n"
     ]
    }
   ],
   "source": [
    "# making predictions and printing r2 score\n",
    "yhat = predict(data_testInputs, model)\n",
    "print('Predicted:', yhat)\n",
    "print(\"R2 Score: %.4f\" % r2_score(data_testXYZ, yhat))\n",
    "\n",
    "# yhat is predicted data / data_testXYZ is real data"
   ]
  }
 ],
 "metadata": {
  "kernelspec": {
   "display_name": "Python 3 (ipykernel)",
   "language": "python",
   "name": "python3"
  },
  "language_info": {
   "codemirror_mode": {
    "name": "ipython",
    "version": 3
   },
   "file_extension": ".py",
   "mimetype": "text/x-python",
   "name": "python",
   "nbconvert_exporter": "python",
   "pygments_lexer": "ipython3",
   "version": "3.9.7"
  }
 },
 "nbformat": 4,
 "nbformat_minor": 5
}
